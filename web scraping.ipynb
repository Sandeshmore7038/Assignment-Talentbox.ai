{
 "cells": [
  {
   "cell_type": "markdown",
   "id": "14d81029",
   "metadata": {},
   "source": [
    "#### Write a web scraping script which takes an input of any film actor and gives the output of filmography of that actor in descending order."
   ]
  },
  {
   "cell_type": "code",
   "execution_count": null,
   "id": "04f79b92",
   "metadata": {},
   "outputs": [],
   "source": [
    "import requests\n",
    "from bs4 import BeautifulSoup\n",
    "import re\n",
    "\n",
    "def get_actor_filmography(actor_name):\n",
    "    # Search IMDb for the actor\n",
    "    search_url = \"https://www.imdb.com/find\"\n",
    "    params = {'q': actor_name, 's': 'nm'}  # Search for names\n",
    "    headers = {\n",
    "        'User-Agent': 'Mozilla/5.0 (Windows NT 10.0; Win64; x64) AppleWebKit/537.36 (KHTML, like Gecko) Chrome/91.0.4472.124 Safari/537.36'\n",
    "    }\n",
    "    search_response = requests.get(search_url, params=params, headers=headers)\n",
    "    search_soup = BeautifulSoup(search_response.content, 'html.parser')\n",
    "    \n",
    "    # Find the first matching actor result (change as needed)\n",
    "    actor_link = search_soup.find('a', href=re.compile('/name/nm'))\n",
    "    if not actor_link:\n",
    "        print(\"Actor not found.\")\n",
    "        return\n",
    "    \n",
    "    actor_url = \"https://www.imdb.com\" + actor_link['href']\n",
    "    \n",
    "    # Request the actor's main page\n",
    "    actor_response = requests.get(actor_url, headers=headers)\n",
    "    actor_soup = BeautifulSoup(actor_response.content, 'html.parser')\n",
    "    \n",
    "    # Locate the filmography section\n",
    "    filmography = actor_soup.find_all('div', class_='filmo-row')\n",
    "    films = []\n",
    "    \n",
    "    for film in filmography:\n",
    "        title_year = film.find('span', class_='year_column')\n",
    "        title = film.find('a')\n",
    "        \n",
    "        if title and title_year:\n",
    "            # Extract title and year, stripping out any extra whitespace\n",
    "            title_text = title.get_text(strip=True)\n",
    "            year_text = title_year.get_text(strip=True)\n",
    "            \n",
    "            # Some entries don't have a year, skip these\n",
    "            if year_text:\n",
    "                try:\n",
    "                    year = int(year_text[:4])  # Convert year to int for sorting\n",
    "                    films.append((title_text, year))\n",
    "                except ValueError:\n",
    "                    continue  # Skip entries without a valid year\n",
    "\n",
    "    # Sort films by year in descending order\n",
    "    films.sort(key=lambda x: x[1], reverse=True)\n",
    "    \n",
    "    # Print the results\n",
    "    print(f\"Filmography of {actor_name} (in descending order):\")\n",
    "    for title, year in films:\n",
    "        print(f\"{year}: {title}\")\n",
    "\n",
    "# Input actor name\n",
    "actor_name = input(\"Enter the actor's name: \")\n",
    "get_actor_filmography(actor_name)\n"
   ]
  },
  {
   "cell_type": "code",
   "execution_count": null,
   "id": "244cd132",
   "metadata": {},
   "outputs": [],
   "source": []
  },
  {
   "cell_type": "code",
   "execution_count": null,
   "id": "7064b51f",
   "metadata": {},
   "outputs": [],
   "source": []
  },
  {
   "cell_type": "code",
   "execution_count": null,
   "id": "51c4913c",
   "metadata": {},
   "outputs": [],
   "source": []
  },
  {
   "cell_type": "code",
   "execution_count": null,
   "id": "ef40f992",
   "metadata": {},
   "outputs": [],
   "source": []
  },
  {
   "cell_type": "code",
   "execution_count": null,
   "id": "192fba6b",
   "metadata": {},
   "outputs": [],
   "source": []
  },
  {
   "cell_type": "code",
   "execution_count": null,
   "id": "a2ad1997",
   "metadata": {},
   "outputs": [],
   "source": []
  },
  {
   "cell_type": "code",
   "execution_count": null,
   "id": "552f1a06",
   "metadata": {},
   "outputs": [],
   "source": []
  }
 ],
 "metadata": {
  "kernelspec": {
   "display_name": "Python 3 (ipykernel)",
   "language": "python",
   "name": "python3"
  },
  "language_info": {
   "codemirror_mode": {
    "name": "ipython",
    "version": 3
   },
   "file_extension": ".py",
   "mimetype": "text/x-python",
   "name": "python",
   "nbconvert_exporter": "python",
   "pygments_lexer": "ipython3",
   "version": "3.11.5"
  }
 },
 "nbformat": 4,
 "nbformat_minor": 5
}
