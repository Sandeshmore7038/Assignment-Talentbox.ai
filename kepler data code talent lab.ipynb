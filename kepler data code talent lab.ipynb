{
 "cells": [
  {
   "cell_type": "markdown",
   "id": "77bc35f1",
   "metadata": {},
   "source": [
    "#### Problem Statement : Create an ML algorithm to classify the planets as Candidate/False positive/Confirmed etc\n",
    "#### based on the column “koi_disposition”."
   ]
  },
  {
   "cell_type": "code",
   "execution_count": 1,
   "id": "44e5fc91",
   "metadata": {},
   "outputs": [],
   "source": [
    "# importing the required lib\n",
    "import pandas as pd\n",
    "from sklearn.model_selection import train_test_split\n",
    "from sklearn.ensemble import RandomForestClassifier\n",
    "from sklearn.metrics import classification_report, accuracy_score"
   ]
  },
  {
   "cell_type": "code",
   "execution_count": 2,
   "id": "5493cd75",
   "metadata": {},
   "outputs": [
    {
     "data": {
      "text/html": [
       "<div>\n",
       "<style scoped>\n",
       "    .dataframe tbody tr th:only-of-type {\n",
       "        vertical-align: middle;\n",
       "    }\n",
       "\n",
       "    .dataframe tbody tr th {\n",
       "        vertical-align: top;\n",
       "    }\n",
       "\n",
       "    .dataframe thead th {\n",
       "        text-align: right;\n",
       "    }\n",
       "</style>\n",
       "<table border=\"1\" class=\"dataframe\">\n",
       "  <thead>\n",
       "    <tr style=\"text-align: right;\">\n",
       "      <th></th>\n",
       "      <th>kepid</th>\n",
       "      <th>kepoi_name</th>\n",
       "      <th>kepler_name</th>\n",
       "      <th>koi_disposition</th>\n",
       "      <th>koi_pdisposition</th>\n",
       "      <th>koi_score</th>\n",
       "      <th>koi_fpflag_nt</th>\n",
       "      <th>koi_fpflag_ss</th>\n",
       "      <th>koi_fpflag_co</th>\n",
       "      <th>koi_fpflag_ec</th>\n",
       "      <th>...</th>\n",
       "      <th>koi_steff_err2</th>\n",
       "      <th>koi_slogg</th>\n",
       "      <th>koi_slogg_err1</th>\n",
       "      <th>koi_slogg_err2</th>\n",
       "      <th>koi_srad</th>\n",
       "      <th>koi_srad_err1</th>\n",
       "      <th>koi_srad_err2</th>\n",
       "      <th>ra</th>\n",
       "      <th>dec</th>\n",
       "      <th>koi_kepmag</th>\n",
       "    </tr>\n",
       "  </thead>\n",
       "  <tbody>\n",
       "    <tr>\n",
       "      <th>0</th>\n",
       "      <td>10797460</td>\n",
       "      <td>K00752.01</td>\n",
       "      <td>Kepler-227 b</td>\n",
       "      <td>CONFIRMED</td>\n",
       "      <td>CANDIDATE</td>\n",
       "      <td>1.00</td>\n",
       "      <td>0</td>\n",
       "      <td>0</td>\n",
       "      <td>0</td>\n",
       "      <td>0</td>\n",
       "      <td>...</td>\n",
       "      <td>-81</td>\n",
       "      <td>4.47</td>\n",
       "      <td>0.06</td>\n",
       "      <td>-0.10</td>\n",
       "      <td>0.93</td>\n",
       "      <td>0.11</td>\n",
       "      <td>-0.06</td>\n",
       "      <td>291.93</td>\n",
       "      <td>48.14</td>\n",
       "      <td>15.35</td>\n",
       "    </tr>\n",
       "    <tr>\n",
       "      <th>1</th>\n",
       "      <td>10797460</td>\n",
       "      <td>K00752.02</td>\n",
       "      <td>Kepler-227 c</td>\n",
       "      <td>CONFIRMED</td>\n",
       "      <td>CANDIDATE</td>\n",
       "      <td>0.97</td>\n",
       "      <td>0</td>\n",
       "      <td>0</td>\n",
       "      <td>0</td>\n",
       "      <td>0</td>\n",
       "      <td>...</td>\n",
       "      <td>-81</td>\n",
       "      <td>4.47</td>\n",
       "      <td>0.06</td>\n",
       "      <td>-0.10</td>\n",
       "      <td>0.93</td>\n",
       "      <td>0.11</td>\n",
       "      <td>-0.06</td>\n",
       "      <td>291.93</td>\n",
       "      <td>48.14</td>\n",
       "      <td>15.35</td>\n",
       "    </tr>\n",
       "    <tr>\n",
       "      <th>2</th>\n",
       "      <td>10811496</td>\n",
       "      <td>K00753.01</td>\n",
       "      <td>0</td>\n",
       "      <td>CANDIDATE</td>\n",
       "      <td>CANDIDATE</td>\n",
       "      <td>0.00</td>\n",
       "      <td>0</td>\n",
       "      <td>0</td>\n",
       "      <td>0</td>\n",
       "      <td>0</td>\n",
       "      <td>...</td>\n",
       "      <td>-176</td>\n",
       "      <td>4.54</td>\n",
       "      <td>0.04</td>\n",
       "      <td>-0.18</td>\n",
       "      <td>0.87</td>\n",
       "      <td>0.23</td>\n",
       "      <td>-0.08</td>\n",
       "      <td>297.00</td>\n",
       "      <td>48.13</td>\n",
       "      <td>15.44</td>\n",
       "    </tr>\n",
       "    <tr>\n",
       "      <th>3</th>\n",
       "      <td>10848459</td>\n",
       "      <td>K00754.01</td>\n",
       "      <td>0</td>\n",
       "      <td>FALSE POSITIVE</td>\n",
       "      <td>FALSE POSITIVE</td>\n",
       "      <td>0.00</td>\n",
       "      <td>0</td>\n",
       "      <td>1</td>\n",
       "      <td>0</td>\n",
       "      <td>0</td>\n",
       "      <td>...</td>\n",
       "      <td>-174</td>\n",
       "      <td>4.56</td>\n",
       "      <td>0.05</td>\n",
       "      <td>-0.17</td>\n",
       "      <td>0.79</td>\n",
       "      <td>0.20</td>\n",
       "      <td>-0.07</td>\n",
       "      <td>285.53</td>\n",
       "      <td>48.29</td>\n",
       "      <td>15.60</td>\n",
       "    </tr>\n",
       "    <tr>\n",
       "      <th>4</th>\n",
       "      <td>10854555</td>\n",
       "      <td>K00755.01</td>\n",
       "      <td>Kepler-664 b</td>\n",
       "      <td>CONFIRMED</td>\n",
       "      <td>CANDIDATE</td>\n",
       "      <td>1.00</td>\n",
       "      <td>0</td>\n",
       "      <td>0</td>\n",
       "      <td>0</td>\n",
       "      <td>0</td>\n",
       "      <td>...</td>\n",
       "      <td>-211</td>\n",
       "      <td>4.44</td>\n",
       "      <td>0.07</td>\n",
       "      <td>-0.21</td>\n",
       "      <td>1.05</td>\n",
       "      <td>0.33</td>\n",
       "      <td>-0.13</td>\n",
       "      <td>288.75</td>\n",
       "      <td>48.23</td>\n",
       "      <td>15.51</td>\n",
       "    </tr>\n",
       "  </tbody>\n",
       "</table>\n",
       "<p>5 rows × 49 columns</p>\n",
       "</div>"
      ],
      "text/plain": [
       "      kepid kepoi_name   kepler_name koi_disposition koi_pdisposition  \\\n",
       "0  10797460  K00752.01  Kepler-227 b       CONFIRMED        CANDIDATE   \n",
       "1  10797460  K00752.02  Kepler-227 c       CONFIRMED        CANDIDATE   \n",
       "2  10811496  K00753.01             0       CANDIDATE        CANDIDATE   \n",
       "3  10848459  K00754.01             0  FALSE POSITIVE   FALSE POSITIVE   \n",
       "4  10854555  K00755.01  Kepler-664 b       CONFIRMED        CANDIDATE   \n",
       "\n",
       "   koi_score  koi_fpflag_nt  koi_fpflag_ss  koi_fpflag_co  koi_fpflag_ec  ...  \\\n",
       "0       1.00              0              0              0              0  ...   \n",
       "1       0.97              0              0              0              0  ...   \n",
       "2       0.00              0              0              0              0  ...   \n",
       "3       0.00              0              1              0              0  ...   \n",
       "4       1.00              0              0              0              0  ...   \n",
       "\n",
       "   koi_steff_err2  koi_slogg  koi_slogg_err1  koi_slogg_err2  koi_srad  \\\n",
       "0             -81       4.47            0.06           -0.10      0.93   \n",
       "1             -81       4.47            0.06           -0.10      0.93   \n",
       "2            -176       4.54            0.04           -0.18      0.87   \n",
       "3            -174       4.56            0.05           -0.17      0.79   \n",
       "4            -211       4.44            0.07           -0.21      1.05   \n",
       "\n",
       "   koi_srad_err1  koi_srad_err2      ra    dec  koi_kepmag  \n",
       "0           0.11          -0.06  291.93  48.14       15.35  \n",
       "1           0.11          -0.06  291.93  48.14       15.35  \n",
       "2           0.23          -0.08  297.00  48.13       15.44  \n",
       "3           0.20          -0.07  285.53  48.29       15.60  \n",
       "4           0.33          -0.13  288.75  48.23       15.51  \n",
       "\n",
       "[5 rows x 49 columns]"
      ]
     },
     "execution_count": 2,
     "metadata": {},
     "output_type": "execute_result"
    }
   ],
   "source": [
    "# Load the data \n",
    "file_path = r\"C:\\Users\\HP\\Downloads\\keplers data.csv\"  \n",
    "data = pd.read_csv(file_path)\n",
    "data.head()"
   ]
  },
  {
   "cell_type": "code",
   "execution_count": 3,
   "id": "ff0009e0",
   "metadata": {},
   "outputs": [
    {
     "name": "stdout",
     "output_type": "stream",
     "text": [
      "Initial Data Information:\n",
      "<class 'pandas.core.frame.DataFrame'>\n",
      "RangeIndex: 9564 entries, 0 to 9563\n",
      "Data columns (total 49 columns):\n",
      " #   Column             Non-Null Count  Dtype  \n",
      "---  ------             --------------  -----  \n",
      " 0   kepid              9564 non-null   int64  \n",
      " 1   kepoi_name         9564 non-null   object \n",
      " 2   kepler_name        9564 non-null   object \n",
      " 3   koi_disposition    9564 non-null   object \n",
      " 4   koi_pdisposition   9564 non-null   object \n",
      " 5   koi_score          9564 non-null   float64\n",
      " 6   koi_fpflag_nt      9564 non-null   int64  \n",
      " 7   koi_fpflag_ss      9564 non-null   int64  \n",
      " 8   koi_fpflag_co      9564 non-null   int64  \n",
      " 9   koi_fpflag_ec      9564 non-null   int64  \n",
      " 10  koi_period         9564 non-null   float64\n",
      " 11  koi_period_err1    9564 non-null   float64\n",
      " 12  koi_period_err2    9564 non-null   float64\n",
      " 13  koi_time0bk        9564 non-null   float64\n",
      " 14  koi_time0bk_err1   9564 non-null   float64\n",
      " 15  koi_time0bk_err2   9564 non-null   float64\n",
      " 16  koi_impact         9564 non-null   float64\n",
      " 17  koi_impact_err1    9564 non-null   float64\n",
      " 18  koi_impact_err2    9564 non-null   float64\n",
      " 19  koi_duration       9564 non-null   float64\n",
      " 20  koi_duration_err1  9564 non-null   float64\n",
      " 21  koi_duration_err2  9564 non-null   float64\n",
      " 22  koi_depth          9564 non-null   float64\n",
      " 23  koi_depth_err1     9564 non-null   float64\n",
      " 24  koi_depth_err2     9564 non-null   float64\n",
      " 25  koi_prad           9564 non-null   float64\n",
      " 26  koi_prad_err1      9564 non-null   float64\n",
      " 27  koi_prad_err2      9564 non-null   float64\n",
      " 28  koi_teq            9564 non-null   int64  \n",
      " 29  koi_teq_err1       9564 non-null   int64  \n",
      " 30  koi_teq_err2       9564 non-null   int64  \n",
      " 31  koi_insol          9564 non-null   float64\n",
      " 32  koi_insol_err1     9564 non-null   float64\n",
      " 33  koi_insol_err2     9564 non-null   float64\n",
      " 34  koi_model_snr      9564 non-null   float64\n",
      " 35  koi_tce_plnt_num   9564 non-null   int64  \n",
      " 36  koi_tce_delivname  9564 non-null   object \n",
      " 37  koi_steff          9564 non-null   int64  \n",
      " 38  koi_steff_err1     9564 non-null   int64  \n",
      " 39  koi_steff_err2     9564 non-null   int64  \n",
      " 40  koi_slogg          9564 non-null   float64\n",
      " 41  koi_slogg_err1     9564 non-null   float64\n",
      " 42  koi_slogg_err2     9564 non-null   float64\n",
      " 43  koi_srad           9564 non-null   float64\n",
      " 44  koi_srad_err1      9564 non-null   float64\n",
      " 45  koi_srad_err2      9564 non-null   float64\n",
      " 46  ra                 9564 non-null   float64\n",
      " 47  dec                9564 non-null   float64\n",
      " 48  koi_kepmag         9564 non-null   float64\n",
      "dtypes: float64(32), int64(12), object(5)\n",
      "memory usage: 3.6+ MB\n",
      "None\n"
     ]
    }
   ],
   "source": [
    "# basic information about the dataset\n",
    "print(\"Initial Data Information:\")\n",
    "print(data.info())"
   ]
  },
  {
   "cell_type": "code",
   "execution_count": 4,
   "id": "acd58a8d",
   "metadata": {},
   "outputs": [
    {
     "name": "stdout",
     "output_type": "stream",
     "text": [
      "\n",
      "Missing Values Before Filling:\n",
      "kepid                0\n",
      "kepoi_name           0\n",
      "kepler_name          0\n",
      "koi_disposition      0\n",
      "koi_pdisposition     0\n",
      "koi_score            0\n",
      "koi_fpflag_nt        0\n",
      "koi_fpflag_ss        0\n",
      "koi_fpflag_co        0\n",
      "koi_fpflag_ec        0\n",
      "koi_period           0\n",
      "koi_period_err1      0\n",
      "koi_period_err2      0\n",
      "koi_time0bk          0\n",
      "koi_time0bk_err1     0\n",
      "koi_time0bk_err2     0\n",
      "koi_impact           0\n",
      "koi_impact_err1      0\n",
      "koi_impact_err2      0\n",
      "koi_duration         0\n",
      "koi_duration_err1    0\n",
      "koi_duration_err2    0\n",
      "koi_depth            0\n",
      "koi_depth_err1       0\n",
      "koi_depth_err2       0\n",
      "koi_prad             0\n",
      "koi_prad_err1        0\n",
      "koi_prad_err2        0\n",
      "koi_teq              0\n",
      "koi_teq_err1         0\n",
      "koi_teq_err2         0\n",
      "koi_insol            0\n",
      "koi_insol_err1       0\n",
      "koi_insol_err2       0\n",
      "koi_model_snr        0\n",
      "koi_tce_plnt_num     0\n",
      "koi_tce_delivname    0\n",
      "koi_steff            0\n",
      "koi_steff_err1       0\n",
      "koi_steff_err2       0\n",
      "koi_slogg            0\n",
      "koi_slogg_err1       0\n",
      "koi_slogg_err2       0\n",
      "koi_srad             0\n",
      "koi_srad_err1        0\n",
      "koi_srad_err2        0\n",
      "ra                   0\n",
      "dec                  0\n",
      "koi_kepmag           0\n",
      "dtype: int64\n"
     ]
    }
   ],
   "source": [
    "# locating the missing values if any\n",
    "print(\"\\nMissing Values Before Filling:\")\n",
    "print(data.isnull().sum())"
   ]
  },
  {
   "cell_type": "code",
   "execution_count": 5,
   "id": "ff5d3f05",
   "metadata": {},
   "outputs": [],
   "source": [
    "# Fill missing values with mean for numeric and 'missing' for categorical columns\n",
    "numeric_cols = data.select_dtypes(include=['float64', 'int64']).columns\n",
    "categorical_cols = data.select_dtypes(include=['object']).columns\n"
   ]
  },
  {
   "cell_type": "code",
   "execution_count": 6,
   "id": "e3454dce",
   "metadata": {},
   "outputs": [],
   "source": [
    "# Fill numeric columns with their mean\n",
    "for column in numeric_cols:\n",
    "    data[column].fillna(data[column].mean(), inplace=True)"
   ]
  },
  {
   "cell_type": "code",
   "execution_count": 7,
   "id": "b73b4142",
   "metadata": {},
   "outputs": [],
   "source": [
    "# Fill categorical columns with a placeholder (e.g., 'missing')\n",
    "for column in categorical_cols:\n",
    "    data[column].fillna('missing', inplace=True)"
   ]
  },
  {
   "cell_type": "code",
   "execution_count": 8,
   "id": "d33ed3a3",
   "metadata": {},
   "outputs": [],
   "source": [
    "# Convert all columns to numeric, coercing errors\n",
    "for column in data.columns:\n",
    "    data[column] = pd.to_numeric(data[column], errors='coerce')"
   ]
  },
  {
   "cell_type": "code",
   "execution_count": 9,
   "id": "29ce9108",
   "metadata": {
    "scrolled": true
   },
   "outputs": [
    {
     "name": "stdout",
     "output_type": "stream",
     "text": [
      "\n",
      "Missing Values After Conversion to Numeric:\n",
      "kepid                   0\n",
      "kepoi_name           9564\n",
      "kepler_name          2360\n",
      "koi_disposition      9564\n",
      "koi_pdisposition     9564\n",
      "koi_score               0\n",
      "koi_fpflag_nt           0\n",
      "koi_fpflag_ss           0\n",
      "koi_fpflag_co           0\n",
      "koi_fpflag_ec           0\n",
      "koi_period              0\n",
      "koi_period_err1         0\n",
      "koi_period_err2         0\n",
      "koi_time0bk             0\n",
      "koi_time0bk_err1        0\n",
      "koi_time0bk_err2        0\n",
      "koi_impact              0\n",
      "koi_impact_err1         0\n",
      "koi_impact_err2         0\n",
      "koi_duration            0\n",
      "koi_duration_err1       0\n",
      "koi_duration_err2       0\n",
      "koi_depth               0\n",
      "koi_depth_err1          0\n",
      "koi_depth_err2          0\n",
      "koi_prad                0\n",
      "koi_prad_err1           0\n",
      "koi_prad_err2           0\n",
      "koi_teq                 0\n",
      "koi_teq_err1            0\n",
      "koi_teq_err2            0\n",
      "koi_insol               0\n",
      "koi_insol_err1          0\n",
      "koi_insol_err2          0\n",
      "koi_model_snr           0\n",
      "koi_tce_plnt_num        0\n",
      "koi_tce_delivname    9218\n",
      "koi_steff               0\n",
      "koi_steff_err1          0\n",
      "koi_steff_err2          0\n",
      "koi_slogg               0\n",
      "koi_slogg_err1          0\n",
      "koi_slogg_err2          0\n",
      "koi_srad                0\n",
      "koi_srad_err1           0\n",
      "koi_srad_err2           0\n",
      "ra                      0\n",
      "dec                     0\n",
      "koi_kepmag              0\n",
      "dtype: int64\n"
     ]
    }
   ],
   "source": [
    "# Check for any remaining missing values after conversion\n",
    "print(\"\\nMissing Values After Conversion to Numeric:\")\n",
    "print(data.isnull().sum())"
   ]
  },
  {
   "cell_type": "code",
   "execution_count": 10,
   "id": "3e163d07",
   "metadata": {},
   "outputs": [],
   "source": [
    "# Fill any remaining NaNs that were caused by conversion\n",
    "data.fillna(0, inplace=True)  # Or any other value you prefer"
   ]
  },
  {
   "cell_type": "code",
   "execution_count": 11,
   "id": "d2d66ce7",
   "metadata": {},
   "outputs": [
    {
     "name": "stdout",
     "output_type": "stream",
     "text": [
      "\n",
      "Shape of the DataFrame after cleaning: (9564, 49)\n"
     ]
    }
   ],
   "source": [
    "# Check the shape of the DataFrame after cleaning\n",
    "print(f\"\\nShape of the DataFrame after cleaning: {data.shape}\")\n",
    "\n"
   ]
  },
  {
   "cell_type": "code",
   "execution_count": 12,
   "id": "187fc1a4",
   "metadata": {},
   "outputs": [],
   "source": [
    "# Encode the target variable 'koi_disposition' into numeric values\n",
    "if 'koi_disposition' in data.columns:\n",
    "    data['koi_disposition'] = data['koi_disposition'].astype('category').cat.codes\n",
    "else:\n",
    "    print(\"Column 'koi_disposition' not found in the DataFrame.\")\n",
    "    exit()\n",
    "\n"
   ]
  },
  {
   "cell_type": "code",
   "execution_count": 13,
   "id": "d5823abc",
   "metadata": {},
   "outputs": [],
   "source": [
    "# Define features (X) and target variable (y)\n",
    "X = data.drop('koi_disposition', axis=1)  # Features: all columns except 'koi_disposition'\n",
    "y = data['koi_disposition']  # Target variable: 'koi_disposition'\n",
    "\n"
   ]
  },
  {
   "cell_type": "code",
   "execution_count": 14,
   "id": "d68da65a",
   "metadata": {},
   "outputs": [
    {
     "name": "stdout",
     "output_type": "stream",
     "text": [
      "Features shape: (9564, 48), Target shape: (9564,)\n"
     ]
    }
   ],
   "source": [
    "# Check sizes of X and y before splitting\n",
    "print(f\"Features shape: {X.shape}, Target shape: {y.shape}\")\n",
    "\n"
   ]
  },
  {
   "cell_type": "code",
   "execution_count": 15,
   "id": "0fe62091",
   "metadata": {},
   "outputs": [],
   "source": [
    "# Ensure that X and y are not empty\n",
    "if X.shape[0] == 0 or y.shape[0] == 0:\n",
    "    print(\"Features or target variable is empty. Cannot proceed with model training.\")\n",
    "else:\n",
    "    X_train, X_test, y_train, y_test = train_test_split(X, y, train_size=0.8, test_size=0.2, random_state=20)"
   ]
  },
  {
   "cell_type": "code",
   "execution_count": 16,
   "id": "1c3439ea",
   "metadata": {},
   "outputs": [
    {
     "data": {
      "text/html": [
       "<style>#sk-container-id-1 {color: black;}#sk-container-id-1 pre{padding: 0;}#sk-container-id-1 div.sk-toggleable {background-color: white;}#sk-container-id-1 label.sk-toggleable__label {cursor: pointer;display: block;width: 100%;margin-bottom: 0;padding: 0.3em;box-sizing: border-box;text-align: center;}#sk-container-id-1 label.sk-toggleable__label-arrow:before {content: \"▸\";float: left;margin-right: 0.25em;color: #696969;}#sk-container-id-1 label.sk-toggleable__label-arrow:hover:before {color: black;}#sk-container-id-1 div.sk-estimator:hover label.sk-toggleable__label-arrow:before {color: black;}#sk-container-id-1 div.sk-toggleable__content {max-height: 0;max-width: 0;overflow: hidden;text-align: left;background-color: #f0f8ff;}#sk-container-id-1 div.sk-toggleable__content pre {margin: 0.2em;color: black;border-radius: 0.25em;background-color: #f0f8ff;}#sk-container-id-1 input.sk-toggleable__control:checked~div.sk-toggleable__content {max-height: 200px;max-width: 100%;overflow: auto;}#sk-container-id-1 input.sk-toggleable__control:checked~label.sk-toggleable__label-arrow:before {content: \"▾\";}#sk-container-id-1 div.sk-estimator input.sk-toggleable__control:checked~label.sk-toggleable__label {background-color: #d4ebff;}#sk-container-id-1 div.sk-label input.sk-toggleable__control:checked~label.sk-toggleable__label {background-color: #d4ebff;}#sk-container-id-1 input.sk-hidden--visually {border: 0;clip: rect(1px 1px 1px 1px);clip: rect(1px, 1px, 1px, 1px);height: 1px;margin: -1px;overflow: hidden;padding: 0;position: absolute;width: 1px;}#sk-container-id-1 div.sk-estimator {font-family: monospace;background-color: #f0f8ff;border: 1px dotted black;border-radius: 0.25em;box-sizing: border-box;margin-bottom: 0.5em;}#sk-container-id-1 div.sk-estimator:hover {background-color: #d4ebff;}#sk-container-id-1 div.sk-parallel-item::after {content: \"\";width: 100%;border-bottom: 1px solid gray;flex-grow: 1;}#sk-container-id-1 div.sk-label:hover label.sk-toggleable__label {background-color: #d4ebff;}#sk-container-id-1 div.sk-serial::before {content: \"\";position: absolute;border-left: 1px solid gray;box-sizing: border-box;top: 0;bottom: 0;left: 50%;z-index: 0;}#sk-container-id-1 div.sk-serial {display: flex;flex-direction: column;align-items: center;background-color: white;padding-right: 0.2em;padding-left: 0.2em;position: relative;}#sk-container-id-1 div.sk-item {position: relative;z-index: 1;}#sk-container-id-1 div.sk-parallel {display: flex;align-items: stretch;justify-content: center;background-color: white;position: relative;}#sk-container-id-1 div.sk-item::before, #sk-container-id-1 div.sk-parallel-item::before {content: \"\";position: absolute;border-left: 1px solid gray;box-sizing: border-box;top: 0;bottom: 0;left: 50%;z-index: -1;}#sk-container-id-1 div.sk-parallel-item {display: flex;flex-direction: column;z-index: 1;position: relative;background-color: white;}#sk-container-id-1 div.sk-parallel-item:first-child::after {align-self: flex-end;width: 50%;}#sk-container-id-1 div.sk-parallel-item:last-child::after {align-self: flex-start;width: 50%;}#sk-container-id-1 div.sk-parallel-item:only-child::after {width: 0;}#sk-container-id-1 div.sk-dashed-wrapped {border: 1px dashed gray;margin: 0 0.4em 0.5em 0.4em;box-sizing: border-box;padding-bottom: 0.4em;background-color: white;}#sk-container-id-1 div.sk-label label {font-family: monospace;font-weight: bold;display: inline-block;line-height: 1.2em;}#sk-container-id-1 div.sk-label-container {text-align: center;}#sk-container-id-1 div.sk-container {/* jupyter's `normalize.less` sets `[hidden] { display: none; }` but bootstrap.min.css set `[hidden] { display: none !important; }` so we also need the `!important` here to be able to override the default hidden behavior on the sphinx rendered scikit-learn.org. See: https://github.com/scikit-learn/scikit-learn/issues/21755 */display: inline-block !important;position: relative;}#sk-container-id-1 div.sk-text-repr-fallback {display: none;}</style><div id=\"sk-container-id-1\" class=\"sk-top-container\"><div class=\"sk-text-repr-fallback\"><pre>RandomForestClassifier(random_state=42)</pre><b>In a Jupyter environment, please rerun this cell to show the HTML representation or trust the notebook. <br />On GitHub, the HTML representation is unable to render, please try loading this page with nbviewer.org.</b></div><div class=\"sk-container\" hidden><div class=\"sk-item\"><div class=\"sk-estimator sk-toggleable\"><input class=\"sk-toggleable__control sk-hidden--visually\" id=\"sk-estimator-id-1\" type=\"checkbox\" checked><label for=\"sk-estimator-id-1\" class=\"sk-toggleable__label sk-toggleable__label-arrow\">RandomForestClassifier</label><div class=\"sk-toggleable__content\"><pre>RandomForestClassifier(random_state=42)</pre></div></div></div></div></div>"
      ],
      "text/plain": [
       "RandomForestClassifier(random_state=42)"
      ]
     },
     "execution_count": 16,
     "metadata": {},
     "output_type": "execute_result"
    }
   ],
   "source": [
    "# Initialize the Random Forest classifier\n",
    "model = RandomForestClassifier(n_estimators=100, random_state=42)\n",
    "# Train the model on the training data\n",
    "model.fit(X_train, y_train)\n",
    "\n",
    "    "
   ]
  },
  {
   "cell_type": "code",
   "execution_count": 17,
   "id": "d65e0030",
   "metadata": {},
   "outputs": [],
   "source": [
    "# Make predictions on the test data\n",
    "y_pred = model.predict(X_test) "
   ]
  },
  {
   "cell_type": "code",
   "execution_count": 18,
   "id": "6e3b95a1",
   "metadata": {},
   "outputs": [
    {
     "name": "stdout",
     "output_type": "stream",
     "text": [
      "\n",
      "Model Accuracy: 1.00\n"
     ]
    }
   ],
   "source": [
    "# Evaluate the model\n",
    "accuracy = accuracy_score(y_test, y_pred)\n",
    "print(f\"\\nModel Accuracy: {accuracy:.2f}\")   "
   ]
  },
  {
   "cell_type": "code",
   "execution_count": 19,
   "id": "2b633c80",
   "metadata": {},
   "outputs": [
    {
     "name": "stdout",
     "output_type": "stream",
     "text": [
      "\n",
      "Classification Report:\n",
      "              precision  recall  f1-score  support\n",
      "0                   1.0     1.0       1.0   1913.0\n",
      "accuracy            1.0     1.0       1.0      1.0\n",
      "macro avg           1.0     1.0       1.0   1913.0\n",
      "weighted avg        1.0     1.0       1.0   1913.0\n"
     ]
    }
   ],
   "source": [
    "# Print classification report\n",
    "report = classification_report(y_test, y_pred, output_dict=True)\n",
    "# Convert classification report to a DataFrame for better visualization\n",
    "report_df = pd.DataFrame(report).transpose()\n",
    "# Display the classification report in a tabular format\n",
    "print(\"\\nClassification Report:\")\n",
    "print(report_df)"
   ]
  },
  {
   "cell_type": "code",
   "execution_count": null,
   "id": "bbd0b121",
   "metadata": {},
   "outputs": [],
   "source": []
  },
  {
   "cell_type": "code",
   "execution_count": null,
   "id": "b24aefbd",
   "metadata": {},
   "outputs": [],
   "source": []
  },
  {
   "cell_type": "code",
   "execution_count": null,
   "id": "b0f3b89c",
   "metadata": {},
   "outputs": [],
   "source": []
  }
 ],
 "metadata": {
  "kernelspec": {
   "display_name": "Python 3 (ipykernel)",
   "language": "python",
   "name": "python3"
  },
  "language_info": {
   "codemirror_mode": {
    "name": "ipython",
    "version": 3
   },
   "file_extension": ".py",
   "mimetype": "text/x-python",
   "name": "python",
   "nbconvert_exporter": "python",
   "pygments_lexer": "ipython3",
   "version": "3.11.5"
  }
 },
 "nbformat": 4,
 "nbformat_minor": 5
}
